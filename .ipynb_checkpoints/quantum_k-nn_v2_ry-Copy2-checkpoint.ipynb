{
 "cells": [
  {
   "cell_type": "code",
   "execution_count": 1,
   "metadata": {
    "colab": {
     "base_uri": "https://localhost:8080/",
     "height": 35
    },
    "id": "WkwBP26axPCm",
    "outputId": "670b0f23-3214-4fbe-ad2c-0812e3b5a297"
   },
   "outputs": [
    {
     "data": {
      "text/plain": [
       "'1.0.2'"
      ]
     },
     "execution_count": 1,
     "metadata": {},
     "output_type": "execute_result"
    }
   ],
   "source": [
    "import qiskit\n",
    "qiskit.__version__"
   ]
  },
  {
   "cell_type": "code",
   "execution_count": 2,
   "metadata": {
    "id": "WenMSs9ExPC3"
   },
   "outputs": [],
   "source": [
    "import numpy as np\n",
    "from math import pi\n",
    "from qiskit import(\n",
    "QuantumCircuit,QuantumRegister,ClassicalRegister,\n",
    ")\n",
    "import pandas as pd\n"
   ]
  },
  {
   "cell_type": "code",
   "execution_count": 3,
   "metadata": {},
   "outputs": [],
   "source": [
    "from sklearn import datasets\n",
    "from sklearn.model_selection import train_test_split\n",
    "\n",
    "\n",
    "# import some data to play with\n",
    "iris = datasets.load_iris()"
   ]
  },
  {
   "cell_type": "code",
   "execution_count": 4,
   "metadata": {},
   "outputs": [
    {
     "data": {
      "text/plain": [
       "array([0, 0, 0, 0, 0, 0, 0, 0, 0, 0, 0, 0, 0, 0, 0, 0, 0, 0, 0, 0, 0, 0,\n",
       "       0, 0, 0, 0, 0, 0, 0, 0, 0, 0, 0, 0, 0, 0, 0, 0, 0, 0, 0, 0, 0, 0,\n",
       "       0, 0, 0, 0, 0, 0, 1, 1, 1, 1, 1, 1, 1, 1, 1, 1, 1, 1, 1, 1, 1, 1,\n",
       "       1, 1, 1, 1, 1, 1, 1, 1, 1, 1, 1, 1, 1, 1, 1, 1, 1, 1, 1, 1, 1, 1,\n",
       "       1, 1, 1, 1, 1, 1, 1, 1, 1, 1, 1, 1, 2, 2, 2, 2, 2, 2, 2, 2, 2, 2,\n",
       "       2, 2, 2, 2, 2, 2, 2, 2, 2, 2, 2, 2, 2, 2, 2, 2, 2, 2, 2, 2, 2, 2,\n",
       "       2, 2, 2, 2, 2, 2, 2, 2, 2, 2, 2, 2, 2, 2, 2, 2, 2, 2])"
      ]
     },
     "execution_count": 4,
     "metadata": {},
     "output_type": "execute_result"
    }
   ],
   "source": [
    "iris['target']"
   ]
  },
  {
   "cell_type": "code",
   "execution_count": 5,
   "metadata": {},
   "outputs": [],
   "source": [
    "x_train, x_test, y_train, y_test =train_test_split(iris['data'], iris['target'], train_size=0.7, test_size=0.3, shuffle=True)"
   ]
  },
  {
   "cell_type": "markdown",
   "metadata": {
    "id": "BZlhHdVlxPCz"
   },
   "source": [
    "# Dataset\n",
    "\n",
    "se usa en este programa el *iris-dataset* que tiene 3 clases ***\"Iris-setosa\",\"Iris-versicolor\",\"Iris-virginica\"***, cada uno tiene 50 instancias, dando un total de *150*. "
   ]
  },
  {
   "cell_type": "code",
   "execution_count": 6,
   "metadata": {},
   "outputs": [
    {
     "name": "stdout",
     "output_type": "stream",
     "text": [
      "Number of original training examples: 105\n",
      "Number of original test examples: 45\n"
     ]
    }
   ],
   "source": [
    "#(x_train, y_train), (x_test, y_test) = tf.keras.datasets.mnist.load_data()\n",
    "\n",
    "# Rescale the images from [0,255] to the [0.0,1.0] range.\n",
    "#x_train, x_test = x_train[..., np.newaxis]/255.0, x_test[..., np.newaxis]/255.0\n",
    "\n",
    "#x_train = np.load(\"x_train_final.npy\")\n",
    "#y_train = np.load(\"y_train.npy\")\n",
    "\n",
    "#x_test = np.load(\"x_test_final.npy\")\n",
    "#y_test = np.load(\"y_test.npy\")\n",
    "\n",
    "print(\"Number of original training examples:\", len(x_train))\n",
    "print(\"Number of original test examples:\", len(x_test))"
   ]
  },
  {
   "cell_type": "markdown",
   "metadata": {},
   "source": [
    "# algoritmo"
   ]
  },
  {
   "cell_type": "code",
   "execution_count": 7,
   "metadata": {},
   "outputs": [],
   "source": [
    "def indexPosicion(value):\n",
    "    list_bin = []\n",
    "    temp = bin(value)[2:]\n",
    "    temp = temp[::-1]\n",
    "    for i in range(len(temp)):\n",
    "        if temp[i] == '1':\n",
    "            list_bin.append(i)\n",
    "    return list_bin"
   ]
  },
  {
   "cell_type": "code",
   "execution_count": 8,
   "metadata": {},
   "outputs": [],
   "source": [
    "def diffuser(nqubits):\n",
    "    qc = QuantumCircuit(nqubits)\n",
    "    # Apply transformation |s> -> |00..0> (H-gates)\n",
    "    for qubit in range(nqubits):\n",
    "        qc.h(qubit)\n",
    "    # Apply transformation |00..0> -> |11..1> (X-gates)\n",
    "    for qubit in range(nqubits):\n",
    "        qc.x(qubit)\n",
    "    # Do multi-controlled-Z gate\n",
    "    qc.h(nqubits-1)\n",
    "    qc.mcx(list(range(nqubits-1)), nqubits-1)  # multi-controlled-toffoli\n",
    "    qc.h(nqubits-1)\n",
    "    # Apply transformation |11..1> -> |00..0>\n",
    "    for qubit in range(nqubits):\n",
    "        qc.x(qubit)\n",
    "    # Apply transformation |00..0> -> |s>\n",
    "    for qubit in range(nqubits):\n",
    "        qc.h(qubit)\n",
    "    # We will return the diffuser as a gate\n",
    "    U_s = qc.to_gate()\n",
    "    U_s.name = \"$U_s$\"\n",
    "    return U_s"
   ]
  },
  {
   "cell_type": "code",
   "execution_count": 9,
   "metadata": {},
   "outputs": [],
   "source": [
    "def init_angles(instance):\n",
    "    a_0,a_1,a_2,a_3 = 0,0,0,0\n",
    "    a0 = [0,1,2,3,4,5,6,7]\n",
    "    a1 = [0,1,2,3,8,9,10,11]\n",
    "    a2 = [0,1,4,5,8,9,12,13]\n",
    "    a3 = [0,2,4,6,8,10,12,14]\n",
    "    for i in a0:\n",
    "        if instance[i] != 0.0:\n",
    "            a_0 += instance[i]**2\n",
    "\n",
    "    for i in a1:\n",
    "        if instance[i] != 0.0:\n",
    "            a_1 += instance[i]**2\n",
    "    for i in a2:\n",
    "        if instance[i] != 0.0:\n",
    "            a_2 += instance[i]**2\n",
    "    for i in a3:\n",
    "        if instance[i] != 0.0:\n",
    "            a_3 += instance[i]**2\n",
    "            \n",
    "    if a_0 > 1:\n",
    "        a_0 = 1\n",
    "    if a_1 > 1:\n",
    "        a_1 = 1\n",
    "    if a_2 > 1:\n",
    "        a_2 = 1\n",
    "    if a_3 > 1:\n",
    "        a_3 = 1\n",
    "        \n",
    "    if a_0 < 0:\n",
    "        a_0 = 0\n",
    "    if a_1 < 0:\n",
    "        a_1 = 0\n",
    "    if a_2 < 0:\n",
    "        a_2 = 0\n",
    "    if a_3 < 0:\n",
    "        a_3 = 0\n",
    "\n",
    "    angle_0 = 2*np.arccos((a_0))\n",
    "    angle_1 = 2*np.arccos((a_1))\n",
    "    angle_2 = 2*np.arccos((a_2))\n",
    "    angle_3 = 2*np.arccos((a_3))\n",
    "    return [angle_0,angle_1,angle_2,angle_3]"
   ]
  },
  {
   "cell_type": "code",
   "execution_count": 10,
   "metadata": {},
   "outputs": [
    {
     "data": {
      "text/plain": [
       "array([5.8, 2.7, 4.1, 1. ])"
      ]
     },
     "execution_count": 10,
     "metadata": {},
     "output_type": "execute_result"
    }
   ],
   "source": [
    "x_train[0]"
   ]
  },
  {
   "cell_type": "code",
   "execution_count": 11,
   "metadata": {},
   "outputs": [
    {
     "data": {
      "text/plain": [
       "array([1, 1, 2, 1, 1, 0, 0, 0, 2, 2, 0, 0, 0, 2, 0, 0, 1, 1, 0, 0, 2, 0,\n",
       "       2, 1, 0, 1, 2, 1, 0, 2, 0, 1, 1, 1, 2, 1, 2, 2, 1, 0, 0, 2, 2, 1,\n",
       "       0, 2, 2, 2, 1, 2, 2, 2, 1, 1, 0, 1, 2, 0, 0, 2, 1, 1, 0, 1, 2, 2,\n",
       "       0, 2, 2, 2, 1, 0, 2, 1, 1, 2, 0, 0, 2, 0, 1, 1, 2, 1, 0, 0, 1, 1,\n",
       "       2, 0, 2, 0, 1, 2, 1, 2, 2, 0, 2, 0, 1, 1, 1, 1, 0])"
      ]
     },
     "execution_count": 11,
     "metadata": {},
     "output_type": "execute_result"
    }
   ],
   "source": [
    "y_train"
   ]
  },
  {
   "cell_type": "code",
   "execution_count": 12,
   "metadata": {
    "id": "wbartpR3ElDR"
   },
   "outputs": [],
   "source": [
    "def qram(qc,address,ancilla,oracle,data,train_set,y_train,len_arr):\n",
    "    if len_arr > len(train_set):\n",
    "        len_arr = len(train_set)\n",
    "    for i in range(len_arr):\n",
    "        x_gates_array = indexPosicion(i)\n",
    "        if x_gates_array:\n",
    "            qc.x(address[x_gates_array])\n",
    "            qc.mcx(address,ancilla)\n",
    "            angles = train_set[i]\n",
    "            for index in range(len(angles)):\n",
    "                qc.cry(angles[index],ancilla, data[index])\n",
    "            qc.mcx(address,ancilla)\n",
    "            qc.x(address[x_gates_array])\n",
    "        else:\n",
    "            qc.mcx(address,ancilla)\n",
    "            angles = train_set[i]\n",
    "            for index in range(len(angles)):\n",
    "                qc.cry(angles[index],ancilla, data[index])\n",
    "            qc.mcx(address,ancilla)\n",
    " \n",
    "        qc.barrier()"
   ]
  },
  {
   "cell_type": "code",
   "execution_count": 13,
   "metadata": {},
   "outputs": [],
   "source": [
    "def qram_d(qc,address,ancilla,data,train_set,len_arr):\n",
    "    if len_arr > len(train_set):\n",
    "        len_arr = len(train_set)\n",
    "    for i in range(len_arr):\n",
    "        x_gates_array = indexPosicion(i)\n",
    "        if x_gates_array:\n",
    "            qc.x(address[x_gates_array])\n",
    "            qc.mcx(address,ancilla)\n",
    "            angles = train_set[i]\n",
    "            for index in range(len(angles)):\n",
    "                qc.cry(-angles[index],ancilla, data[index])\n",
    "            qc.mcx(address,ancilla)\n",
    "            qc.x(address[x_gates_array])\n",
    "        else:\n",
    "            qc.mcx(address,ancilla)\n",
    "            angles = train_set[i]\n",
    "            for index in range(len(angles)):\n",
    "                qc.cry(-angles[index],ancilla, data[index])\n",
    "            qc.mcx(address,ancilla)\n",
    "        qc.barrier()"
   ]
  },
  {
   "cell_type": "code",
   "execution_count": 14,
   "metadata": {
    "id": "OMcRfgoOi_Fy"
   },
   "outputs": [],
   "source": [
    "def knn_1_V2(input_a, train_set,y_train,size):\n",
    "    address = QuantumRegister(size)\n",
    "    ancilla = QuantumRegister(1)\n",
    "    data_train = QuantumRegister(4)\n",
    "    data_test = QuantumRegister(4)\n",
    "    swap_test = QuantumRegister(1)\n",
    "    oracle = QuantumRegister(1)\n",
    "    c = ClassicalRegister(size)\n",
    "    c_oracle = ClassicalRegister(1)\n",
    "    qc = QuantumCircuit(address, ancilla, data_train, data_test, swap_test,oracle, c,c_oracle)\n",
    "\n",
    "    qc.h(address)\n",
    "    qc.x(oracle)\n",
    "    qc.h(oracle)\n",
    "    qc.h(swap_test)\n",
    "    \n",
    "    qc.barrier()\n",
    "    \n",
    "    \n",
    "    n = (2**size)\n",
    "    for index in range(1):\n",
    "        qram(qc,address,ancilla,oracle,data_train,train_set,y_train,n)\n",
    "        qc.barrier()\n",
    "        angles = input_a\n",
    "\n",
    "        for index in range(len(angles)):\n",
    "            qc.ry(angles[index],data_test[index]) \n",
    "        qc.barrier()\n",
    "        for i in range(4):\n",
    "            qc.cswap(swap_test[0],data_train[i],data_test[i])\n",
    "        qc.h(swap_test)\n",
    "        qc.barrier()\n",
    "\n",
    "        qc.measure(swap_test,c_oracle)\n",
    "        qc.x(oracle).c_if(c_oracle[0], 0)\n",
    "\n",
    "        qc.barrier()\n",
    "        qram_d(qc,address,ancilla,data_train,train_set,n)\n",
    "        qc.barrier()    \n",
    "        qc.append(diffuser(size),address)#[address[0],address[1],address[2],address[3]])  \n",
    "        qc.barrier() \n",
    "\n",
    "    qc.x(address)\n",
    "    qc.measure(address,c)\n",
    "    #qc.measure([address[0], address[1],address[2], address[3]],c)   \n",
    "    \n",
    "    return qc"
   ]
  },
  {
   "cell_type": "code",
   "execution_count": 24,
   "metadata": {},
   "outputs": [],
   "source": [
    "# import sklearn to load the iris dataset and split the dataset in train and test model, and the metric confusion matrix\n",
    "from sklearn import datasets\n",
    "from sklearn.model_selection import train_test_split\n",
    "from sklearn.metrics import accuracy_score\n",
    "\n",
    "# import pandas to use seaborn plots as hue parameter\n",
    "import pandas as pd\n",
    "\n",
    "# import seaborn to plot the iris dataset\n",
    "import seaborn as sns\n",
    "\n",
    "# import numpy for postprocessing to find the k-nn label\n",
    "import numpy as np\n",
    "\n",
    "#module to find the mode\n",
    "import operator\n",
    "\n",
    "# import math methods\n",
    "import math\n",
    "\n",
    "#save data\n",
    "import pickle\n",
    "\n",
    "# import qiskit minimal methods to use quantum circuit and use qubits as the classical bits\n",
    "from qiskit import QuantumCircuit,QuantumRegister,ClassicalRegister, transpile\n",
    "from qiskit_aer import AerSimulator\n",
    "from qiskit.circuit import CircuitInstruction, Instruction\n",
    "from qiskit.circuit.library.standard_gates import CRYGate,RYGate,RZGate\n",
    "\n",
    "#progress bar\n",
    "from tqdm import tqdm"
   ]
  },
  {
   "cell_type": "code",
   "execution_count": 25,
   "metadata": {},
   "outputs": [
    {
     "ename": "AttributeError",
     "evalue": "module 'operator' has no attribute 'mode'",
     "output_type": "error",
     "traceback": [
      "\u001b[0;31m---------------------------------------------------------------------------\u001b[0m",
      "\u001b[0;31mAttributeError\u001b[0m                            Traceback (most recent call last)",
      "Cell \u001b[0;32mIn[25], line 1\u001b[0m\n\u001b[0;32m----> 1\u001b[0m \u001b[43moperator\u001b[49m\u001b[38;5;241;43m.\u001b[39;49m\u001b[43mmode\u001b[49m\n",
      "\u001b[0;31mAttributeError\u001b[0m: module 'operator' has no attribute 'mode'"
     ]
    }
   ],
   "source": [
    "operator.mode"
   ]
  },
  {
   "cell_type": "code",
   "execution_count": 17,
   "metadata": {
    "colab": {
     "base_uri": "https://localhost:8080/"
    },
    "id": "MaZDyC2kKoKO",
    "outputId": "b29adad3-e445-49e8-a650-e67fc4861b00"
   },
   "outputs": [
    {
     "name": "stdout",
     "output_type": "stream",
     "text": [
      "train set:  3 Accuracy:  [235.29411765 210.52631579 444.44444444]\n"
     ]
    },
    {
     "ename": "KeyboardInterrupt",
     "evalue": "",
     "output_type": "error",
     "traceback": [
      "\u001b[0;31m---------------------------------------------------------------------------\u001b[0m",
      "\u001b[0;31mKeyboardInterrupt\u001b[0m                         Traceback (most recent call last)",
      "Cell \u001b[0;32mIn[17], line 19\u001b[0m\n\u001b[1;32m     17\u001b[0m \u001b[38;5;28;01mfor\u001b[39;00m i \u001b[38;5;129;01min\u001b[39;00m \u001b[38;5;28mrange\u001b[39m(k):\n\u001b[1;32m     18\u001b[0m     qc \u001b[38;5;241m=\u001b[39m knn_1_V2(x_test[i], x_train,y_train,size)\n\u001b[0;32m---> 19\u001b[0m     result \u001b[38;5;241m=\u001b[39m AerSimulator()\u001b[38;5;241m.\u001b[39mrun(\u001b[43mtranspile\u001b[49m\u001b[43m(\u001b[49m\u001b[43mqc\u001b[49m\u001b[43m,\u001b[49m\u001b[43mbasis_gates\u001b[49m\u001b[38;5;241;43m=\u001b[39;49m\u001b[43m[\u001b[49m\u001b[38;5;124;43m\"\u001b[39;49m\u001b[38;5;124;43mcx\u001b[39;49m\u001b[38;5;124;43m\"\u001b[39;49m\u001b[43m,\u001b[49m\u001b[38;5;124;43m\"\u001b[39;49m\u001b[38;5;124;43mrz\u001b[39;49m\u001b[38;5;124;43m\"\u001b[39;49m\u001b[43m,\u001b[49m\u001b[38;5;124;43m\"\u001b[39;49m\u001b[38;5;124;43mx\u001b[39;49m\u001b[38;5;124;43m\"\u001b[39;49m\u001b[43m,\u001b[49m\u001b[38;5;124;43m\"\u001b[39;49m\u001b[38;5;124;43msx\u001b[39;49m\u001b[38;5;124;43m\"\u001b[39;49m\u001b[43m]\u001b[49m\u001b[43m,\u001b[49m\u001b[43moptimization_level\u001b[49m\u001b[38;5;241;43m=\u001b[39;49m\u001b[38;5;241;43m3\u001b[39;49m\u001b[43m)\u001b[49m, shots\u001b[38;5;241m=\u001b[39mshots)\u001b[38;5;241m.\u001b[39mresult()\n\u001b[1;32m     20\u001b[0m     counts \u001b[38;5;241m=\u001b[39m result\u001b[38;5;241m.\u001b[39mget_counts(qc)\n\u001b[1;32m     21\u001b[0m     counts_l\u001b[38;5;241m.\u001b[39mappend(counts)\n",
      "File \u001b[0;32m~/anaconda3/envs/qiskit1/lib/python3.12/site-packages/qiskit/compiler/transpiler.py:425\u001b[0m, in \u001b[0;36mtranspile\u001b[0;34m(circuits, backend, basis_gates, inst_map, coupling_map, backend_properties, initial_layout, layout_method, routing_method, translation_method, scheduling_method, instruction_durations, dt, approximation_degree, timing_constraints, seed_transpiler, optimization_level, callback, output_name, unitary_synthesis_method, unitary_synthesis_plugin_config, target, hls_config, init_method, optimization_method, ignore_backend_supplied_default_methods, num_processes)\u001b[0m\n\u001b[1;32m    397\u001b[0m         instruction_durations \u001b[38;5;241m=\u001b[39m _parse_instruction_durations(\n\u001b[1;32m    398\u001b[0m             backend, instruction_durations, dt, circuits[\u001b[38;5;241m0\u001b[39m]\n\u001b[1;32m    399\u001b[0m         )\n\u001b[1;32m    401\u001b[0m pm \u001b[38;5;241m=\u001b[39m generate_preset_pass_manager(\n\u001b[1;32m    402\u001b[0m     optimization_level,\n\u001b[1;32m    403\u001b[0m     backend\u001b[38;5;241m=\u001b[39mbackend,\n\u001b[0;32m   (...)\u001b[0m\n\u001b[1;32m    423\u001b[0m     _skip_target\u001b[38;5;241m=\u001b[39m_skip_target,\n\u001b[1;32m    424\u001b[0m )\n\u001b[0;32m--> 425\u001b[0m out_circuits \u001b[38;5;241m=\u001b[39m \u001b[43mpm\u001b[49m\u001b[38;5;241;43m.\u001b[39;49m\u001b[43mrun\u001b[49m\u001b[43m(\u001b[49m\u001b[43mcircuits\u001b[49m\u001b[43m,\u001b[49m\u001b[43m \u001b[49m\u001b[43mcallback\u001b[49m\u001b[38;5;241;43m=\u001b[39;49m\u001b[43mcallback\u001b[49m\u001b[43m)\u001b[49m\n\u001b[1;32m    426\u001b[0m \u001b[38;5;28;01mfor\u001b[39;00m name, circ \u001b[38;5;129;01min\u001b[39;00m \u001b[38;5;28mzip\u001b[39m(output_name, out_circuits):\n\u001b[1;32m    427\u001b[0m     circ\u001b[38;5;241m.\u001b[39mname \u001b[38;5;241m=\u001b[39m name\n",
      "File \u001b[0;32m~/anaconda3/envs/qiskit1/lib/python3.12/site-packages/qiskit/transpiler/passmanager.py:397\u001b[0m, in \u001b[0;36mStagedPassManager.run\u001b[0;34m(self, circuits, output_name, callback, num_processes)\u001b[0m\n\u001b[1;32m    389\u001b[0m \u001b[38;5;28;01mdef\u001b[39;00m \u001b[38;5;21mrun\u001b[39m(\n\u001b[1;32m    390\u001b[0m     \u001b[38;5;28mself\u001b[39m,\n\u001b[1;32m    391\u001b[0m     circuits: _CircuitsT,\n\u001b[0;32m   (...)\u001b[0m\n\u001b[1;32m    394\u001b[0m     num_processes: \u001b[38;5;28mint\u001b[39m \u001b[38;5;241m=\u001b[39m \u001b[38;5;28;01mNone\u001b[39;00m,\n\u001b[1;32m    395\u001b[0m ) \u001b[38;5;241m-\u001b[39m\u001b[38;5;241m>\u001b[39m _CircuitsT:\n\u001b[1;32m    396\u001b[0m     \u001b[38;5;28mself\u001b[39m\u001b[38;5;241m.\u001b[39m_update_passmanager()\n\u001b[0;32m--> 397\u001b[0m     \u001b[38;5;28;01mreturn\u001b[39;00m \u001b[38;5;28;43msuper\u001b[39;49m\u001b[43m(\u001b[49m\u001b[43m)\u001b[49m\u001b[38;5;241;43m.\u001b[39;49m\u001b[43mrun\u001b[49m\u001b[43m(\u001b[49m\u001b[43mcircuits\u001b[49m\u001b[43m,\u001b[49m\u001b[43m \u001b[49m\u001b[43moutput_name\u001b[49m\u001b[43m,\u001b[49m\u001b[43m \u001b[49m\u001b[43mcallback\u001b[49m\u001b[43m,\u001b[49m\u001b[43m \u001b[49m\u001b[43mnum_processes\u001b[49m\u001b[38;5;241;43m=\u001b[39;49m\u001b[43mnum_processes\u001b[49m\u001b[43m)\u001b[49m\n",
      "File \u001b[0;32m~/anaconda3/envs/qiskit1/lib/python3.12/site-packages/qiskit/transpiler/passmanager.py:420\u001b[0m, in \u001b[0;36m_replace_error.<locals>.wrapper\u001b[0;34m(*meth_args, **meth_kwargs)\u001b[0m\n\u001b[1;32m    417\u001b[0m \u001b[38;5;129m@wraps\u001b[39m(meth)\n\u001b[1;32m    418\u001b[0m \u001b[38;5;28;01mdef\u001b[39;00m \u001b[38;5;21mwrapper\u001b[39m(\u001b[38;5;241m*\u001b[39mmeth_args, \u001b[38;5;241m*\u001b[39m\u001b[38;5;241m*\u001b[39mmeth_kwargs):\n\u001b[1;32m    419\u001b[0m     \u001b[38;5;28;01mtry\u001b[39;00m:\n\u001b[0;32m--> 420\u001b[0m         \u001b[38;5;28;01mreturn\u001b[39;00m \u001b[43mmeth\u001b[49m\u001b[43m(\u001b[49m\u001b[38;5;241;43m*\u001b[39;49m\u001b[43mmeth_args\u001b[49m\u001b[43m,\u001b[49m\u001b[43m \u001b[49m\u001b[38;5;241;43m*\u001b[39;49m\u001b[38;5;241;43m*\u001b[39;49m\u001b[43mmeth_kwargs\u001b[49m\u001b[43m)\u001b[49m\n\u001b[1;32m    421\u001b[0m     \u001b[38;5;28;01mexcept\u001b[39;00m PassManagerError \u001b[38;5;28;01mas\u001b[39;00m ex:\n\u001b[1;32m    422\u001b[0m         \u001b[38;5;28;01mraise\u001b[39;00m TranspilerError(ex\u001b[38;5;241m.\u001b[39mmessage) \u001b[38;5;28;01mfrom\u001b[39;00m \u001b[38;5;21;01mex\u001b[39;00m\n",
      "File \u001b[0;32m~/anaconda3/envs/qiskit1/lib/python3.12/site-packages/qiskit/transpiler/passmanager.py:182\u001b[0m, in \u001b[0;36mPassManager.run\u001b[0;34m(self, circuits, output_name, callback, num_processes)\u001b[0m\n\u001b[1;32m    179\u001b[0m \u001b[38;5;28;01mif\u001b[39;00m callback \u001b[38;5;129;01mis\u001b[39;00m \u001b[38;5;129;01mnot\u001b[39;00m \u001b[38;5;28;01mNone\u001b[39;00m:\n\u001b[1;32m    180\u001b[0m     callback \u001b[38;5;241m=\u001b[39m _legacy_style_callback(callback)\n\u001b[0;32m--> 182\u001b[0m \u001b[38;5;28;01mreturn\u001b[39;00m \u001b[38;5;28;43msuper\u001b[39;49m\u001b[43m(\u001b[49m\u001b[43m)\u001b[49m\u001b[38;5;241;43m.\u001b[39;49m\u001b[43mrun\u001b[49m\u001b[43m(\u001b[49m\n\u001b[1;32m    183\u001b[0m \u001b[43m    \u001b[49m\u001b[43min_programs\u001b[49m\u001b[38;5;241;43m=\u001b[39;49m\u001b[43mcircuits\u001b[49m\u001b[43m,\u001b[49m\n\u001b[1;32m    184\u001b[0m \u001b[43m    \u001b[49m\u001b[43mcallback\u001b[49m\u001b[38;5;241;43m=\u001b[39;49m\u001b[43mcallback\u001b[49m\u001b[43m,\u001b[49m\n\u001b[1;32m    185\u001b[0m \u001b[43m    \u001b[49m\u001b[43moutput_name\u001b[49m\u001b[38;5;241;43m=\u001b[39;49m\u001b[43moutput_name\u001b[49m\u001b[43m,\u001b[49m\n\u001b[1;32m    186\u001b[0m \u001b[43m    \u001b[49m\u001b[43mnum_processes\u001b[49m\u001b[38;5;241;43m=\u001b[39;49m\u001b[43mnum_processes\u001b[49m\u001b[43m,\u001b[49m\n\u001b[1;32m    187\u001b[0m \u001b[43m\u001b[49m\u001b[43m)\u001b[49m\n",
      "File \u001b[0;32m~/anaconda3/envs/qiskit1/lib/python3.12/site-packages/qiskit/passmanager/passmanager.py:229\u001b[0m, in \u001b[0;36mBasePassManager.run\u001b[0;34m(self, in_programs, callback, num_processes, **kwargs)\u001b[0m\n\u001b[1;32m    226\u001b[0m     is_list \u001b[38;5;241m=\u001b[39m \u001b[38;5;28;01mFalse\u001b[39;00m\n\u001b[1;32m    228\u001b[0m \u001b[38;5;28;01mif\u001b[39;00m \u001b[38;5;28mlen\u001b[39m(in_programs) \u001b[38;5;241m==\u001b[39m \u001b[38;5;241m1\u001b[39m:\n\u001b[0;32m--> 229\u001b[0m     out_program \u001b[38;5;241m=\u001b[39m \u001b[43m_run_workflow\u001b[49m\u001b[43m(\u001b[49m\n\u001b[1;32m    230\u001b[0m \u001b[43m        \u001b[49m\u001b[43mprogram\u001b[49m\u001b[38;5;241;43m=\u001b[39;49m\u001b[43min_programs\u001b[49m\u001b[43m[\u001b[49m\u001b[38;5;241;43m0\u001b[39;49m\u001b[43m]\u001b[49m\u001b[43m,\u001b[49m\n\u001b[1;32m    231\u001b[0m \u001b[43m        \u001b[49m\u001b[43mpass_manager\u001b[49m\u001b[38;5;241;43m=\u001b[39;49m\u001b[38;5;28;43mself\u001b[39;49m\u001b[43m,\u001b[49m\n\u001b[1;32m    232\u001b[0m \u001b[43m        \u001b[49m\u001b[43mcallback\u001b[49m\u001b[38;5;241;43m=\u001b[39;49m\u001b[43mcallback\u001b[49m\u001b[43m,\u001b[49m\n\u001b[1;32m    233\u001b[0m \u001b[43m        \u001b[49m\u001b[38;5;241;43m*\u001b[39;49m\u001b[38;5;241;43m*\u001b[39;49m\u001b[43mkwargs\u001b[49m\u001b[43m,\u001b[49m\n\u001b[1;32m    234\u001b[0m \u001b[43m    \u001b[49m\u001b[43m)\u001b[49m\n\u001b[1;32m    235\u001b[0m     \u001b[38;5;28;01mif\u001b[39;00m is_list:\n\u001b[1;32m    236\u001b[0m         \u001b[38;5;28;01mreturn\u001b[39;00m [out_program]\n",
      "File \u001b[0;32m~/anaconda3/envs/qiskit1/lib/python3.12/site-packages/qiskit/passmanager/passmanager.py:292\u001b[0m, in \u001b[0;36m_run_workflow\u001b[0;34m(program, pass_manager, **kwargs)\u001b[0m\n\u001b[1;32m    286\u001b[0m initial_status \u001b[38;5;241m=\u001b[39m WorkflowStatus()\n\u001b[1;32m    288\u001b[0m passmanager_ir \u001b[38;5;241m=\u001b[39m pass_manager\u001b[38;5;241m.\u001b[39m_passmanager_frontend(\n\u001b[1;32m    289\u001b[0m     input_program\u001b[38;5;241m=\u001b[39mprogram,\n\u001b[1;32m    290\u001b[0m     \u001b[38;5;241m*\u001b[39m\u001b[38;5;241m*\u001b[39mkwargs,\n\u001b[1;32m    291\u001b[0m )\n\u001b[0;32m--> 292\u001b[0m passmanager_ir, final_state \u001b[38;5;241m=\u001b[39m \u001b[43mflow_controller\u001b[49m\u001b[38;5;241;43m.\u001b[39;49m\u001b[43mexecute\u001b[49m\u001b[43m(\u001b[49m\n\u001b[1;32m    293\u001b[0m \u001b[43m    \u001b[49m\u001b[43mpassmanager_ir\u001b[49m\u001b[38;5;241;43m=\u001b[39;49m\u001b[43mpassmanager_ir\u001b[49m\u001b[43m,\u001b[49m\n\u001b[1;32m    294\u001b[0m \u001b[43m    \u001b[49m\u001b[43mstate\u001b[49m\u001b[38;5;241;43m=\u001b[39;49m\u001b[43mPassManagerState\u001b[49m\u001b[43m(\u001b[49m\n\u001b[1;32m    295\u001b[0m \u001b[43m        \u001b[49m\u001b[43mworkflow_status\u001b[49m\u001b[38;5;241;43m=\u001b[39;49m\u001b[43minitial_status\u001b[49m\u001b[43m,\u001b[49m\n\u001b[1;32m    296\u001b[0m \u001b[43m        \u001b[49m\u001b[43mproperty_set\u001b[49m\u001b[38;5;241;43m=\u001b[39;49m\u001b[43mPropertySet\u001b[49m\u001b[43m(\u001b[49m\u001b[43m)\u001b[49m\u001b[43m,\u001b[49m\n\u001b[1;32m    297\u001b[0m \u001b[43m    \u001b[49m\u001b[43m)\u001b[49m\u001b[43m,\u001b[49m\n\u001b[1;32m    298\u001b[0m \u001b[43m    \u001b[49m\u001b[43mcallback\u001b[49m\u001b[38;5;241;43m=\u001b[39;49m\u001b[43mkwargs\u001b[49m\u001b[38;5;241;43m.\u001b[39;49m\u001b[43mget\u001b[49m\u001b[43m(\u001b[49m\u001b[38;5;124;43m\"\u001b[39;49m\u001b[38;5;124;43mcallback\u001b[39;49m\u001b[38;5;124;43m\"\u001b[39;49m\u001b[43m,\u001b[49m\u001b[43m \u001b[49m\u001b[38;5;28;43;01mNone\u001b[39;49;00m\u001b[43m)\u001b[49m\u001b[43m,\u001b[49m\n\u001b[1;32m    299\u001b[0m \u001b[43m\u001b[49m\u001b[43m)\u001b[49m\n\u001b[1;32m    300\u001b[0m \u001b[38;5;66;03m# The `property_set` has historically been returned as a mutable attribute on `PassManager`\u001b[39;00m\n\u001b[1;32m    301\u001b[0m \u001b[38;5;66;03m# This makes us non-reentrant (though `PassManager` would be dependent on its internal tasks to\u001b[39;00m\n\u001b[1;32m    302\u001b[0m \u001b[38;5;66;03m# be re-entrant if that was required), but is consistent with previous interfaces.  We're still\u001b[39;00m\n\u001b[1;32m    303\u001b[0m \u001b[38;5;66;03m# safe to be called in a serial loop, again assuming internal tasks are re-runnable.  The\u001b[39;00m\n\u001b[1;32m    304\u001b[0m \u001b[38;5;66;03m# conversion to the backend language is also allowed to use the property set, so it must be set\u001b[39;00m\n\u001b[1;32m    305\u001b[0m \u001b[38;5;66;03m# before calling it.\u001b[39;00m\n\u001b[1;32m    306\u001b[0m pass_manager\u001b[38;5;241m.\u001b[39mproperty_set \u001b[38;5;241m=\u001b[39m final_state\u001b[38;5;241m.\u001b[39mproperty_set\n",
      "File \u001b[0;32m~/anaconda3/envs/qiskit1/lib/python3.12/site-packages/qiskit/passmanager/base_tasks.py:218\u001b[0m, in \u001b[0;36mBaseController.execute\u001b[0;34m(self, passmanager_ir, state, callback)\u001b[0m\n\u001b[1;32m    216\u001b[0m     \u001b[38;5;28;01mreturn\u001b[39;00m passmanager_ir, state\n\u001b[1;32m    217\u001b[0m \u001b[38;5;28;01mwhile\u001b[39;00m \u001b[38;5;28;01mTrue\u001b[39;00m:\n\u001b[0;32m--> 218\u001b[0m     passmanager_ir, state \u001b[38;5;241m=\u001b[39m \u001b[43mnext_task\u001b[49m\u001b[38;5;241;43m.\u001b[39;49m\u001b[43mexecute\u001b[49m\u001b[43m(\u001b[49m\n\u001b[1;32m    219\u001b[0m \u001b[43m        \u001b[49m\u001b[43mpassmanager_ir\u001b[49m\u001b[38;5;241;43m=\u001b[39;49m\u001b[43mpassmanager_ir\u001b[49m\u001b[43m,\u001b[49m\n\u001b[1;32m    220\u001b[0m \u001b[43m        \u001b[49m\u001b[43mstate\u001b[49m\u001b[38;5;241;43m=\u001b[39;49m\u001b[43mstate\u001b[49m\u001b[43m,\u001b[49m\n\u001b[1;32m    221\u001b[0m \u001b[43m        \u001b[49m\u001b[43mcallback\u001b[49m\u001b[38;5;241;43m=\u001b[39;49m\u001b[43mcallback\u001b[49m\u001b[43m,\u001b[49m\n\u001b[1;32m    222\u001b[0m \u001b[43m    \u001b[49m\u001b[43m)\u001b[49m\n\u001b[1;32m    223\u001b[0m     \u001b[38;5;28;01mtry\u001b[39;00m:\n\u001b[1;32m    224\u001b[0m         \u001b[38;5;66;03m# Sending the object through the generator implies the custom controllers\u001b[39;00m\n\u001b[1;32m    225\u001b[0m         \u001b[38;5;66;03m# can always rely on the latest data to choose the next task to run.\u001b[39;00m\n\u001b[1;32m    226\u001b[0m         next_task \u001b[38;5;241m=\u001b[39m task_generator\u001b[38;5;241m.\u001b[39msend(state)\n",
      "File \u001b[0;32m~/anaconda3/envs/qiskit1/lib/python3.12/site-packages/qiskit/passmanager/base_tasks.py:218\u001b[0m, in \u001b[0;36mBaseController.execute\u001b[0;34m(self, passmanager_ir, state, callback)\u001b[0m\n\u001b[1;32m    216\u001b[0m     \u001b[38;5;28;01mreturn\u001b[39;00m passmanager_ir, state\n\u001b[1;32m    217\u001b[0m \u001b[38;5;28;01mwhile\u001b[39;00m \u001b[38;5;28;01mTrue\u001b[39;00m:\n\u001b[0;32m--> 218\u001b[0m     passmanager_ir, state \u001b[38;5;241m=\u001b[39m \u001b[43mnext_task\u001b[49m\u001b[38;5;241;43m.\u001b[39;49m\u001b[43mexecute\u001b[49m\u001b[43m(\u001b[49m\n\u001b[1;32m    219\u001b[0m \u001b[43m        \u001b[49m\u001b[43mpassmanager_ir\u001b[49m\u001b[38;5;241;43m=\u001b[39;49m\u001b[43mpassmanager_ir\u001b[49m\u001b[43m,\u001b[49m\n\u001b[1;32m    220\u001b[0m \u001b[43m        \u001b[49m\u001b[43mstate\u001b[49m\u001b[38;5;241;43m=\u001b[39;49m\u001b[43mstate\u001b[49m\u001b[43m,\u001b[49m\n\u001b[1;32m    221\u001b[0m \u001b[43m        \u001b[49m\u001b[43mcallback\u001b[49m\u001b[38;5;241;43m=\u001b[39;49m\u001b[43mcallback\u001b[49m\u001b[43m,\u001b[49m\n\u001b[1;32m    222\u001b[0m \u001b[43m    \u001b[49m\u001b[43m)\u001b[49m\n\u001b[1;32m    223\u001b[0m     \u001b[38;5;28;01mtry\u001b[39;00m:\n\u001b[1;32m    224\u001b[0m         \u001b[38;5;66;03m# Sending the object through the generator implies the custom controllers\u001b[39;00m\n\u001b[1;32m    225\u001b[0m         \u001b[38;5;66;03m# can always rely on the latest data to choose the next task to run.\u001b[39;00m\n\u001b[1;32m    226\u001b[0m         next_task \u001b[38;5;241m=\u001b[39m task_generator\u001b[38;5;241m.\u001b[39msend(state)\n",
      "File \u001b[0;32m~/anaconda3/envs/qiskit1/lib/python3.12/site-packages/qiskit/transpiler/basepasses.py:195\u001b[0m, in \u001b[0;36mTransformationPass.execute\u001b[0;34m(self, passmanager_ir, state, callback)\u001b[0m\n\u001b[1;32m    189\u001b[0m \u001b[38;5;28;01mdef\u001b[39;00m \u001b[38;5;21mexecute\u001b[39m(\n\u001b[1;32m    190\u001b[0m     \u001b[38;5;28mself\u001b[39m,\n\u001b[1;32m    191\u001b[0m     passmanager_ir: PassManagerIR,\n\u001b[1;32m    192\u001b[0m     state: PassManagerState,\n\u001b[1;32m    193\u001b[0m     callback: Callable \u001b[38;5;241m=\u001b[39m \u001b[38;5;28;01mNone\u001b[39;00m,\n\u001b[1;32m    194\u001b[0m ) \u001b[38;5;241m-\u001b[39m\u001b[38;5;241m>\u001b[39m \u001b[38;5;28mtuple\u001b[39m[PassManagerIR, PassManagerState]:\n\u001b[0;32m--> 195\u001b[0m     new_dag, state \u001b[38;5;241m=\u001b[39m \u001b[38;5;28;43msuper\u001b[39;49m\u001b[43m(\u001b[49m\u001b[43m)\u001b[49m\u001b[38;5;241;43m.\u001b[39;49m\u001b[43mexecute\u001b[49m\u001b[43m(\u001b[49m\n\u001b[1;32m    196\u001b[0m \u001b[43m        \u001b[49m\u001b[43mpassmanager_ir\u001b[49m\u001b[38;5;241;43m=\u001b[39;49m\u001b[43mpassmanager_ir\u001b[49m\u001b[43m,\u001b[49m\n\u001b[1;32m    197\u001b[0m \u001b[43m        \u001b[49m\u001b[43mstate\u001b[49m\u001b[38;5;241;43m=\u001b[39;49m\u001b[43mstate\u001b[49m\u001b[43m,\u001b[49m\n\u001b[1;32m    198\u001b[0m \u001b[43m        \u001b[49m\u001b[43mcallback\u001b[49m\u001b[38;5;241;43m=\u001b[39;49m\u001b[43mcallback\u001b[49m\u001b[43m,\u001b[49m\n\u001b[1;32m    199\u001b[0m \u001b[43m    \u001b[49m\u001b[43m)\u001b[49m\n\u001b[1;32m    201\u001b[0m     \u001b[38;5;28;01mif\u001b[39;00m state\u001b[38;5;241m.\u001b[39mworkflow_status\u001b[38;5;241m.\u001b[39mprevious_run \u001b[38;5;241m==\u001b[39m RunState\u001b[38;5;241m.\u001b[39mSUCCESS:\n\u001b[1;32m    202\u001b[0m         \u001b[38;5;28;01mif\u001b[39;00m \u001b[38;5;28misinstance\u001b[39m(new_dag, DAGCircuit):\n\u001b[1;32m    203\u001b[0m             \u001b[38;5;66;03m# Copy calibration data from the original program\u001b[39;00m\n",
      "File \u001b[0;32m~/anaconda3/envs/qiskit1/lib/python3.12/site-packages/qiskit/passmanager/base_tasks.py:98\u001b[0m, in \u001b[0;36mGenericPass.execute\u001b[0;34m(self, passmanager_ir, state, callback)\u001b[0m\n\u001b[1;32m     96\u001b[0m \u001b[38;5;28;01mtry\u001b[39;00m:\n\u001b[1;32m     97\u001b[0m     \u001b[38;5;28;01mif\u001b[39;00m \u001b[38;5;28mself\u001b[39m \u001b[38;5;129;01mnot\u001b[39;00m \u001b[38;5;129;01min\u001b[39;00m state\u001b[38;5;241m.\u001b[39mworkflow_status\u001b[38;5;241m.\u001b[39mcompleted_passes:\n\u001b[0;32m---> 98\u001b[0m         ret \u001b[38;5;241m=\u001b[39m \u001b[38;5;28;43mself\u001b[39;49m\u001b[38;5;241;43m.\u001b[39;49m\u001b[43mrun\u001b[49m\u001b[43m(\u001b[49m\u001b[43mpassmanager_ir\u001b[49m\u001b[43m)\u001b[49m\n\u001b[1;32m     99\u001b[0m         run_state \u001b[38;5;241m=\u001b[39m RunState\u001b[38;5;241m.\u001b[39mSUCCESS\n\u001b[1;32m    100\u001b[0m     \u001b[38;5;28;01melse\u001b[39;00m:\n",
      "File \u001b[0;32m~/anaconda3/envs/qiskit1/lib/python3.12/site-packages/qiskit/transpiler/passes/optimization/consolidate_blocks.py:134\u001b[0m, in \u001b[0;36mConsolidateBlocks.run\u001b[0;34m(self, dag)\u001b[0m\n\u001b[1;32m    128\u001b[0m     unitary \u001b[38;5;241m=\u001b[39m UnitaryGate(matrix, check_input\u001b[38;5;241m=\u001b[39m\u001b[38;5;28;01mFalse\u001b[39;00m)\n\u001b[1;32m    130\u001b[0m max_2q_depth \u001b[38;5;241m=\u001b[39m \u001b[38;5;241m20\u001b[39m  \u001b[38;5;66;03m# If depth > 20, there will be 1q gates to consolidate.\u001b[39;00m\n\u001b[1;32m    131\u001b[0m \u001b[38;5;28;01mif\u001b[39;00m (  \u001b[38;5;66;03m# pylint: disable=too-many-boolean-expressions\u001b[39;00m\n\u001b[1;32m    132\u001b[0m     \u001b[38;5;28mself\u001b[39m\u001b[38;5;241m.\u001b[39mforce_consolidate\n\u001b[1;32m    133\u001b[0m     \u001b[38;5;129;01mor\u001b[39;00m unitary\u001b[38;5;241m.\u001b[39mnum_qubits \u001b[38;5;241m>\u001b[39m \u001b[38;5;241m2\u001b[39m\n\u001b[0;32m--> 134\u001b[0m     \u001b[38;5;129;01mor\u001b[39;00m \u001b[38;5;28;43mself\u001b[39;49m\u001b[38;5;241;43m.\u001b[39;49m\u001b[43mdecomposer\u001b[49m\u001b[38;5;241;43m.\u001b[39;49m\u001b[43mnum_basis_gates\u001b[49m\u001b[43m(\u001b[49m\u001b[43munitary\u001b[49m\u001b[43m)\u001b[49m \u001b[38;5;241m<\u001b[39m basis_count\n\u001b[1;32m    135\u001b[0m     \u001b[38;5;129;01mor\u001b[39;00m \u001b[38;5;28mlen\u001b[39m(block) \u001b[38;5;241m>\u001b[39m max_2q_depth\n\u001b[1;32m    136\u001b[0m     \u001b[38;5;129;01mor\u001b[39;00m ((\u001b[38;5;28mself\u001b[39m\u001b[38;5;241m.\u001b[39mbasis_gates \u001b[38;5;129;01mis\u001b[39;00m \u001b[38;5;129;01mnot\u001b[39;00m \u001b[38;5;28;01mNone\u001b[39;00m) \u001b[38;5;129;01mand\u001b[39;00m outside_basis)\n\u001b[1;32m    137\u001b[0m     \u001b[38;5;129;01mor\u001b[39;00m ((\u001b[38;5;28mself\u001b[39m\u001b[38;5;241m.\u001b[39mtarget \u001b[38;5;129;01mis\u001b[39;00m \u001b[38;5;129;01mnot\u001b[39;00m \u001b[38;5;28;01mNone\u001b[39;00m) \u001b[38;5;129;01mand\u001b[39;00m outside_basis)\n\u001b[1;32m    138\u001b[0m ):\n\u001b[1;32m    139\u001b[0m     identity \u001b[38;5;241m=\u001b[39m np\u001b[38;5;241m.\u001b[39meye(\u001b[38;5;241m2\u001b[39m\u001b[38;5;241m*\u001b[39m\u001b[38;5;241m*\u001b[39munitary\u001b[38;5;241m.\u001b[39mnum_qubits)\n\u001b[1;32m    140\u001b[0m     \u001b[38;5;28;01mif\u001b[39;00m np\u001b[38;5;241m.\u001b[39mallclose(identity, unitary\u001b[38;5;241m.\u001b[39mto_matrix()):\n",
      "File \u001b[0;32m~/anaconda3/envs/qiskit1/lib/python3.12/site-packages/qiskit/synthesis/two_qubit/two_qubit_decompose.py:1479\u001b[0m, in \u001b[0;36mTwoQubitBasisDecomposer.num_basis_gates\u001b[0;34m(self, unitary)\u001b[0m\n\u001b[1;32m   1474\u001b[0m \u001b[38;5;28;01mdef\u001b[39;00m \u001b[38;5;21mnum_basis_gates\u001b[39m(\u001b[38;5;28mself\u001b[39m, unitary):\n\u001b[1;32m   1475\u001b[0m \u001b[38;5;250m    \u001b[39m\u001b[38;5;124;03m\"\"\"Computes the number of basis gates needed in\u001b[39;00m\n\u001b[1;32m   1476\u001b[0m \u001b[38;5;124;03m    a decomposition of input unitary\u001b[39;00m\n\u001b[1;32m   1477\u001b[0m \u001b[38;5;124;03m    \"\"\"\u001b[39;00m\n\u001b[1;32m   1478\u001b[0m     \u001b[38;5;28;01mreturn\u001b[39;00m two_qubit_decompose\u001b[38;5;241m.\u001b[39m_num_basis_gates(\n\u001b[0;32m-> 1479\u001b[0m         \u001b[38;5;28mself\u001b[39m\u001b[38;5;241m.\u001b[39mbasis\u001b[38;5;241m.\u001b[39mb, \u001b[38;5;28mself\u001b[39m\u001b[38;5;241m.\u001b[39mbasis_fidelity, \u001b[43mnp\u001b[49m\u001b[38;5;241;43m.\u001b[39;49m\u001b[43masarray\u001b[49m\u001b[43m(\u001b[49m\u001b[43munitary\u001b[49m\u001b[43m,\u001b[49m\u001b[43m \u001b[49m\u001b[43mdtype\u001b[49m\u001b[38;5;241;43m=\u001b[39;49m\u001b[38;5;28;43mcomplex\u001b[39;49m\u001b[43m)\u001b[49m\n\u001b[1;32m   1480\u001b[0m     )\n",
      "\u001b[0;31mKeyboardInterrupt\u001b[0m: "
     ]
    }
   ],
   "source": [
    "import operator\n",
    "from sklearn.metrics import confusion_matrix\n",
    "\n",
    "acc_8 = []\n",
    "acc_16 = []\n",
    "acc_32 = []\n",
    "acc_64 = []\n",
    "acc_128 = []\n",
    "shots=8192\n",
    "\n",
    "for iteration in range(10):\n",
    "    for size in range(3,8):\n",
    "        result_lista = []\n",
    "        y_pred = []\n",
    "        counts_l = []\n",
    "        k = len(y_test)\n",
    "        for i in range(k):\n",
    "            qc = knn_1_V2(x_test[i], x_train,y_train,size)\n",
    "            result = AerSimulator().run(transpile(qc,basis_gates=[\"cx\",\"rz\",\"x\",\"sx\"],optimization_level=3), shots=shots).result()\n",
    "            counts = result.get_counts(qc)\n",
    "            counts_l.append(counts)\n",
    "            salida = '00000'\n",
    "            while salida[0] != '1':\n",
    "                salida = max(counts.items(), key=operator.itemgetter(1))[0]\n",
    "                del counts[salida]\n",
    "            y_pred.append(y_train[int(salida[1:], 2)])\n",
    "            result_lista.append([y_pred[i], y_test[i]])\n",
    "\n",
    "        cf_matrix = confusion_matrix(y_test[:k], y_pred)\n",
    "        acc_knn = (cf_matrix[0][0]+cf_matrix[1][1]+cf_matrix[2][2])/sum(cf_matrix)*100\n",
    "        if size == 3:\n",
    "            acc_8.append(acc_knn)\n",
    "\n",
    "        elif size == 4:\n",
    "            acc_16.append(acc_knn)\n",
    "\n",
    "        elif size == 5:\n",
    "            acc_32.append(acc_knn)\n",
    "\n",
    "        if size == 6:\n",
    "            acc_64.append(acc_knn)\n",
    "        else:\n",
    "            acc_128.append(acc_knn)\n",
    "\n",
    "        print(\"train set: \",size,\"Accuracy: \",acc_knn)"
   ]
  },
  {
   "cell_type": "code",
   "execution_count": null,
   "metadata": {},
   "outputs": [],
   "source": [
    "a_8= 62.22222222222222+62.22222222222222+62.22222222222222+62.22222222222222+62.22222222222222+62.22222222222222+62.22222222222222+62.22222222222222+62.22222222222222+62.22222222222222\n",
    "\n",
    "a_16=95.55555555555556 + 93.33333333333333 +93.33333333333333+88.88888888888889+97.77777777777777+91.11111111111111+97.77777777777777+91.11111111111111+97.77777777777777+93.33333333333333\n",
    "\n",
    "a_32=86.66666666666667+88.88888888888889+97.77777777777777+95.55555555555556+91.11111111111111+88.88888888888889+93.33333333333333+97.77777777777777+91.11111111111111+93.33333333333333\n",
    "\n",
    "a_64=95.55555555555556+95.55555555555556+91.11111111111111+91.11111111111111+93.33333333333333+95.55555555555556+93.33333333333333+91.11111111111111+95.55555555555556+91.11111111111111\n",
    "\n",
    "a_128=95.55555555555556+86.66666666666667+91.11111111111111+91.11111111111111+95.55555555555556+88.88888888888889+91.11111111111111+97.77777777777777+88.88888888888889+100.0\n",
    "\n",
    "a_8/10,a_16/10,a_32/10,a_64/10,a_128/10"
   ]
  },
  {
   "cell_type": "code",
   "execution_count": null,
   "metadata": {},
   "outputs": [],
   "source": []
  },
  {
   "cell_type": "code",
   "execution_count": null,
   "metadata": {},
   "outputs": [],
   "source": [
    "def mae_acc(acc):\n",
    "    mean =  np.mean(np.asarray(acc))\n",
    "    n = len(acc)\n",
    "    summ = 0\n",
    "    for i in range(n):\n",
    "        summ += abs(mean - acc[i])\n",
    "    return summ/n\n",
    "\n",
    "mae_acc(acc_8),mae_acc(acc_16),mae_acc(acc_32),mae_acc(acc_64),mae_acc(acc_128)"
   ]
  },
  {
   "cell_type": "code",
   "execution_count": 26,
   "metadata": {},
   "outputs": [],
   "source": [
    "def knn_1_V3(input_a, train_set,y_train,size):\n",
    "    address = QuantumRegister(size)\n",
    "    ancilla = QuantumRegister(1)\n",
    "    data_train = QuantumRegister(4)\n",
    "    data_test = QuantumRegister(4)\n",
    "    swap_test = QuantumRegister(1)\n",
    "    oracle = QuantumRegister(1)\n",
    "    c = ClassicalRegister(size)\n",
    "    c_oracle = ClassicalRegister(1)\n",
    "    qc = QuantumCircuit(address, ancilla, data_train, data_test, swap_test,oracle, c,c_oracle)\n",
    "\n",
    "    qc.h(address)\n",
    "    qc.x(oracle)\n",
    "    qc.h(oracle)\n",
    "    qc.h(swap_test)\n",
    "    \n",
    "    qc.barrier()\n",
    "    \n",
    "    \n",
    "    n = (2**size)\n",
    "    for index in range(1):\n",
    "        qram(qc,address,ancilla,oracle,data_train,train_set,y_train,n)\n",
    "        qc.barrier()\n",
    "        angles = input_a\n",
    "\n",
    "        for index in range(len(angles)):\n",
    "            qc.ry(angles[index],data_test[index]) \n",
    "        qc.barrier()\n",
    "        for i in range(4):\n",
    "            qc.cswap(swap_test[0],data_train[i],data_test[i])\n",
    "        qc.h(swap_test)\n",
    "        qc.barrier()\n",
    "\n",
    "        qc.measure(swap_test,c_oracle)\n",
    "        qc.x(oracle).c_if(c_oracle[0], 0)\n",
    "\n",
    "        \n",
    "        for index in range(len(angles)):\n",
    "            qc.ry(-angles[index],data_test[index]) \n",
    "        qc.barrier()\n",
    "        qc.barrier()\n",
    "        qram_d(qc,address,ancilla,data_train,train_set,n)\n",
    "        qc.barrier()    \n",
    "        qc.append(diffuser(size),address)#[address[0],address[1],address[2],address[3]])  \n",
    "        qc.barrier() \n",
    "\n",
    "    qc.x(address)\n",
    "    qc.measure(address,c)\n",
    "    #qc.measure([address[0], address[1],address[2], address[3]],c)   \n",
    "    \n",
    "    return qc"
   ]
  },
  {
   "cell_type": "code",
   "execution_count": 27,
   "metadata": {},
   "outputs": [],
   "source": [
    "from statistics import mode\n"
   ]
  },
  {
   "cell_type": "code",
   "execution_count": 45,
   "metadata": {},
   "outputs": [
    {
     "name": "stdout",
     "output_type": "stream",
     "text": [
      "[0, 1, 0, 0, 1, 2, 1, 1, 1, 0, 1, 1, 0, 0, 1, 2, 1, 1, 0, 1, 1, 0, 2, 1, 0, 1, 2, 1, 0, 0, 2, 0, 0, 1, 0, 2, 2, 1, 0, 2, 0, 2, 0, 1, 1]\n",
      "3nn-train set:  4 Accuracy:  88.88888888888889\n",
      "5nn-train set:  4 Accuracy:  91.11111111111111\n",
      "7nn-train set:  4 Accuracy:  93.33333333333333\n",
      "9nn-train set:  4 Accuracy:  91.11111111111111\n",
      "11nn-train set:  4 Accuracy:  91.11111111111111\n"
     ]
    }
   ],
   "source": [
    "import operator\n",
    "from sklearn.metrics import confusion_matrix\n",
    "\n",
    "acc_8 = []\n",
    "acc_16 = []\n",
    "acc_32 = []\n",
    "acc_64 = []\n",
    "acc_128 = []\n",
    "\n",
    "\n",
    "acc_3 = []\n",
    "acc_5 = []\n",
    "acc_7 = []\n",
    "acc_9 = []\n",
    "acc_11 = []\n",
    "\n",
    "for iteration in range(1):\n",
    "    y_3 = []\n",
    "    y_5 = []\n",
    "    y_7 = []\n",
    "    y_9 = []\n",
    "    y_11 = []\n",
    "    for size in range(4,5):\n",
    "        result_lista = []\n",
    "        y_pred = []\n",
    "        counts_l = []\n",
    "        index_k = len(y_test)\n",
    "        for i in range(index_k):\n",
    "            qc = knn_1_V2(x_test[i], x_train,y_train,size)\n",
    "            result = AerSimulator().run(transpile(qc,basis_gates=[\"cx\",\"rz\",\"x\",\"sx\"],optimization_level=3), shots=shots).result()\n",
    "            counts = result.get_counts(qc)\n",
    "            order = sorted(counts.items(), key=lambda item: item[1], reverse=True)\n",
    "            k = [3,5,7,9,11]\n",
    "            list_ = []\n",
    "            index = 0\n",
    "            nn = 0\n",
    "            while nn < k[len(k)-1]: \n",
    "                if order[index][0][0] == '1' and int(order[index][0][2:],2)< 16:\n",
    "                    list_.append(y_train[int(order[index][0][2:],2)])\n",
    "                    nn+=1\n",
    "                index+=1\n",
    "            for k_ in k:\n",
    "                if k_==3:\n",
    "                    y_3.append(mode(list_[:k_]))\n",
    "                elif k_==5:\n",
    "                    y_5.append(mode(list_[:k_]))\n",
    "                elif k_==7:\n",
    "                    y_7.append(mode(list_[:k_]))\n",
    "                elif k_==9:\n",
    "                    y_9.append(mode(list_[:k_]))\n",
    "                elif k_==11:\n",
    "                    y_11.append(mode(list_[:k_]))\n",
    "            #print(salida,int(salida[1:], 2))\n",
    "            #y_pred.append(y_train[int(salida[1:], 2)])\n",
    "            #result_lista.append([y_pred[i], y_test[i]])\n",
    "        print(y_3)\n",
    "        cf_matrix = confusion_matrix(y_test[:index_k], y_3)\n",
    "        acc_knn = (cf_matrix[0][0]+cf_matrix[1][1]+cf_matrix[2][2])/sum(sum(cf_matrix))*100\n",
    "        acc_3.append(acc_knn)\n",
    "        print(\"3nn-train set: \",size,\"Accuracy: \",acc_knn)\n",
    "        \n",
    "        cf_matrix = confusion_matrix(y_test[:index_k], y_5)\n",
    "        acc_knn = (cf_matrix[0][0]+cf_matrix[1][1]+cf_matrix[2][2])/sum(sum(cf_matrix))*100\n",
    "        acc_5.append(acc_knn)\n",
    "        print(\"5nn-train set: \",size,\"Accuracy: \",acc_knn)\n",
    "        \n",
    "        cf_matrix = confusion_matrix(y_test[:index_k], y_7)\n",
    "        acc_knn = (cf_matrix[0][0]+cf_matrix[1][1]+cf_matrix[2][2])/sum(sum(cf_matrix))*100\n",
    "        acc_7.append(acc_knn)\n",
    "        print(\"7nn-train set: \",size,\"Accuracy: \",acc_knn)\n",
    "        \n",
    "        cf_matrix = confusion_matrix(y_test[:index_k], y_9)\n",
    "        acc_knn = (cf_matrix[0][0]+cf_matrix[1][1]+cf_matrix[2][2])/sum(sum(cf_matrix))*100\n",
    "        acc_9.append(acc_knn)\n",
    "        print(\"9nn-train set: \",size,\"Accuracy: \",acc_knn)\n",
    "\n",
    "        #         if size == 3:\n",
    "#             acc_8.append(acc_knn)\n",
    "\n",
    "#         elif size == 4:\n",
    "#             acc_16.append(acc_knn)\n",
    "\n",
    "#         elif size == 5:\n",
    "#             acc_32.append(acc_knn)\n",
    "\n",
    "#         elif size == 6:\n",
    "#             acc_64.append(acc_knn)\n",
    "#         else:\n",
    "#             acc_128.append(acc_knn)\n",
    "        cf_matrix = confusion_matrix(y_test[:index_k], y_11)\n",
    "        acc_knn = (cf_matrix[0][0]+cf_matrix[1][1]+cf_matrix[2][2])/sum(sum(cf_matrix))*100\n",
    "        acc_11.append(acc_knn)\n",
    "        print(\"11nn-train set: \",size,\"Accuracy: \",acc_knn)"
   ]
  },
  {
   "cell_type": "code",
   "execution_count": 38,
   "metadata": {},
   "outputs": [
    {
     "name": "stderr",
     "output_type": "stream",
     "text": [
      "/home/dona/anaconda3/envs/qiskit1/lib/python3.12/site-packages/numpy/core/fromnumeric.py:3504: RuntimeWarning: Mean of empty slice.\n",
      "  return _methods._mean(a, axis=axis, dtype=dtype,\n",
      "/home/dona/anaconda3/envs/qiskit1/lib/python3.12/site-packages/numpy/core/_methods.py:129: RuntimeWarning: invalid value encountered in scalar divide\n",
      "  ret = ret.dtype.type(ret / rcount)\n"
     ]
    },
    {
     "ename": "ZeroDivisionError",
     "evalue": "division by zero",
     "output_type": "error",
     "traceback": [
      "\u001b[0;31m---------------------------------------------------------------------------\u001b[0m",
      "\u001b[0;31mZeroDivisionError\u001b[0m                         Traceback (most recent call last)",
      "Cell \u001b[0;32mIn[38], line 9\u001b[0m\n\u001b[1;32m      6\u001b[0m         summ \u001b[38;5;241m+\u001b[39m\u001b[38;5;241m=\u001b[39m \u001b[38;5;28mabs\u001b[39m(mean \u001b[38;5;241m-\u001b[39m acc[i])\n\u001b[1;32m      7\u001b[0m     \u001b[38;5;28;01mreturn\u001b[39;00m mean,summ\u001b[38;5;241m/\u001b[39mn\n\u001b[0;32m----> 9\u001b[0m \u001b[43mmae_acc\u001b[49m\u001b[43m(\u001b[49m\u001b[43macc_8\u001b[49m\u001b[43m)\u001b[49m,mae_acc(acc_16),mae_acc(acc_32),mae_acc(acc_64),mae_acc(acc_128)\n",
      "Cell \u001b[0;32mIn[38], line 7\u001b[0m, in \u001b[0;36mmae_acc\u001b[0;34m(acc)\u001b[0m\n\u001b[1;32m      5\u001b[0m \u001b[38;5;28;01mfor\u001b[39;00m i \u001b[38;5;129;01min\u001b[39;00m \u001b[38;5;28mrange\u001b[39m(n):\n\u001b[1;32m      6\u001b[0m     summ \u001b[38;5;241m+\u001b[39m\u001b[38;5;241m=\u001b[39m \u001b[38;5;28mabs\u001b[39m(mean \u001b[38;5;241m-\u001b[39m acc[i])\n\u001b[0;32m----> 7\u001b[0m \u001b[38;5;28;01mreturn\u001b[39;00m mean,\u001b[43msumm\u001b[49m\u001b[38;5;241;43m/\u001b[39;49m\u001b[43mn\u001b[49m\n",
      "\u001b[0;31mZeroDivisionError\u001b[0m: division by zero"
     ]
    }
   ],
   "source": [
    "def mae_acc(acc):\n",
    "    mean =  np.mean(np.asarray(acc))\n",
    "    n = len(acc)\n",
    "    summ = 0\n",
    "    for i in range(n):\n",
    "        summ += abs(mean - acc[i])\n",
    "    return mean,summ/n\n",
    "\n",
    "mae_acc(acc_8),mae_acc(acc_16),mae_acc(acc_32),mae_acc(acc_64),mae_acc(acc_128)"
   ]
  },
  {
   "cell_type": "code",
   "execution_count": null,
   "metadata": {},
   "outputs": [],
   "source": []
  }
 ],
 "metadata": {
  "colab": {
   "collapsed_sections": [],
   "name": "1nn_128_inputs_v2.ipynb",
   "provenance": [],
   "toc_visible": true
  },
  "kernelspec": {
   "display_name": "Python 3 (ipykernel)",
   "language": "python",
   "name": "python3"
  },
  "language_info": {
   "codemirror_mode": {
    "name": "ipython",
    "version": 3
   },
   "file_extension": ".py",
   "mimetype": "text/x-python",
   "name": "python",
   "nbconvert_exporter": "python",
   "pygments_lexer": "ipython3",
   "version": "3.9.5"
  }
 },
 "nbformat": 4,
 "nbformat_minor": 4
}
