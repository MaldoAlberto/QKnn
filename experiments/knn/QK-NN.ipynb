{
 "cells": [
  {
   "cell_type": "markdown",
   "metadata": {},
   "source": [
    "# QK-NN with multiple K\n"
   ]
  },
  {
   "cell_type": "code",
   "execution_count": 1,
   "metadata": {},
   "outputs": [],
   "source": [
    "# import sklearn to load the iris dataset and split the dataset in train and test model, and the metric confusion matrix\n",
    "from sklearn import datasets\n",
    "from sklearn.model_selection import train_test_split\n",
    "\n",
    "# import pandas to use seaborn plots as hue parameter\n",
    "import pandas as pd\n",
    "\n",
    "# import seaborn to plot the iris dataset\n",
    "import seaborn as sns\n",
    "\n",
    "# import numpy for postprocessing to find the k-nn label\n",
    "import numpy as np\n",
    "\n",
    "# import qiskit minimal methods to use quantum circuit and use qubits as the classical bits\n",
    "from qiskit import QuantumCircuit,QuantumRegister,ClassicalRegister,transpile\n",
    "from qiskit.circuit.library.standard_gates import RYGate,RZGate\n",
    "\n",
    "import sys\n",
    "import os\n",
    "cwd = os.getcwd()\n",
    "sep = os.path.sep\n",
    "dir = sep.join(cwd.split(sep)[:-2])\n",
    "sys.path.append(dir) \n",
    "\n",
    "from qknn.functions import qknn_experiments"
   ]
  },
  {
   "cell_type": "code",
   "execution_count": 2,
   "metadata": {},
   "outputs": [],
   "source": [
    "iris = datasets.load_iris()"
   ]
  },
  {
   "cell_type": "code",
   "execution_count": 3,
   "metadata": {},
   "outputs": [],
   "source": [
    "x_train, x_test, y_train, y_test =train_test_split(iris['data'], iris['target'], train_size=0.7, test_size=0.3, random_state=18)"
   ]
  },
  {
   "cell_type": "code",
   "execution_count": 4,
   "metadata": {},
   "outputs": [],
   "source": [
    "features = len(x_train[0])"
   ]
  },
  {
   "cell_type": "code",
   "execution_count": 5,
   "metadata": {},
   "outputs": [
    {
     "name": "stdout",
     "output_type": "stream",
     "text": [
      "Number of original training examples: 105\n",
      "Number of original test examples: 45\n"
     ]
    }
   ],
   "source": [
    "print(\"Number of original training examples:\", len(x_train))\n",
    "print(\"Number of original test examples:\", len(x_test))"
   ]
  },
  {
   "cell_type": "markdown",
   "metadata": {},
   "source": [
    "### Experiments\n",
    "\n",
    "Experiments of the QK-NN with size of QRAM of 8, 16, 32, 64, and 128 cells of memory."
   ]
  },
  {
   "cell_type": "markdown",
   "metadata": {},
   "source": [
    "###  Results"
   ]
  },
  {
   "cell_type": "markdown",
   "metadata": {},
   "source": [
    "#### RY"
   ]
  },
  {
   "cell_type": "code",
   "execution_count": 6,
   "metadata": {},
   "outputs": [
    {
     "name": "stdout",
     "output_type": "stream",
     "text": [
      "([95.55555555555556], [75.55555555555556], [], [], [], [])\n",
      "The MAE value of each k is \n",
      "MAE of  QRAM of size 8 cells of memory and 1-nn with  95.56 +/- 0.00.\n",
      "MAE of  QRAM of size 8 cells of memory and 3-nn with  75.56 +/- 0.00.\n"
     ]
    }
   ],
   "source": [
    "experiment_size = 1\n",
    "min_QRAM = 7\n",
    "max_QRAM = 8\n",
    "qknn_e = qknn_experiments(\n",
    "     x_test=x_test,\n",
    "     x_train=x_train,\n",
    "     y_test=y_test,\n",
    "     y_train=y_train,\n",
    "     features=features,\n",
    "     min_QRAM=min_QRAM,\n",
    "     max_QRAM=max_QRAM,\n",
    "     max_trials=1,\n",
    "     rotation=\"ry\",\n",
    "    experiment_size=experiment_size)\n",
    "\n",
    "print(qknn_e.experiments_multi_knn(k=[1,3,5,7,9,11]))\n",
    "qknn_e.print_results_multi_knn()\n"
   ]
  },
  {
   "cell_type": "markdown",
   "metadata": {},
   "source": [
    "#### RZ"
   ]
  },
  {
   "cell_type": "code",
   "execution_count": 7,
   "metadata": {},
   "outputs": [
    {
     "name": "stdout",
     "output_type": "stream",
     "text": [
      "([97.77777777777777], [80.0], [], [], [], [])\n",
      "The MAE value of each k is \n",
      "MAE of  QRAM of size 8 cells of memory and 1-nn with  97.78 +/- 0.00.\n",
      "MAE of  QRAM of size 8 cells of memory and 3-nn with  80.00 +/- 0.00.\n"
     ]
    }
   ],
   "source": [
    "experiment_size = 1\n",
    "min_QRAM = 3\n",
    "max_QRAM = 4\n",
    "qknn_e = qknn_experiments(\n",
    "    x_test=x_test,\n",
    "    x_train=x_train,\n",
    "    y_test=y_test,\n",
    "    y_train=y_train,\n",
    "    features=features,\n",
    "    min_QRAM=min_QRAM,\n",
    "    max_QRAM=max_QRAM,\n",
    "    max_trials=1,\n",
    "    rotation=\"rz\",\n",
    "    experiment_size=experiment_size)\n",
    "\n",
    "print(qknn_e.experiments_multi_knn(k=[1,3,5,7,9,11]))\n",
    "qknn_e.print_results_multi_knn()"
   ]
  }
 ],
 "metadata": {
  "colab": {
   "collapsed_sections": [],
   "name": "1nn_128_inputs_v2.ipynb",
   "provenance": [],
   "toc_visible": true
  },
  "kernelspec": {
   "display_name": "qiskit1",
   "language": "python",
   "name": "qiskit1"
  },
  "language_info": {
   "codemirror_mode": {
    "name": "ipython",
    "version": 3
   },
   "file_extension": ".py",
   "mimetype": "text/x-python",
   "name": "python",
   "nbconvert_exporter": "python",
   "pygments_lexer": "ipython3",
   "version": "3.12.0"
  }
 },
 "nbformat": 4,
 "nbformat_minor": 4
}
